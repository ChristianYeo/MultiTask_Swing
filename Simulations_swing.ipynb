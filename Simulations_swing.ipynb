{
 "cells": [
  {
   "cell_type": "code",
   "execution_count": null,
   "id": "404d50c3-62c6-424c-a6d1-1b5ec604e030",
   "metadata": {
    "tags": []
   },
   "outputs": [],
   "source": [
    "import numpy as np\n",
    "from datetime import datetime, timedelta, date\n",
    "from dateutil.relativedelta import relativedelta\n",
    "import torch"
   ]
  },
  {
   "cell_type": "code",
   "execution_count": null,
   "id": "80e895d8-abf5-4e47-9d1f-3bcfa0d56e47",
   "metadata": {
    "tags": []
   },
   "outputs": [],
   "source": [
    "from model import diffusion_model\n",
    "from grid import volume_grid\n",
    "from MultiTask import mtl_network_swing, mtl_training_swing"
   ]
  },
  {
   "cell_type": "code",
   "execution_count": null,
   "id": "4e2e44da-24c3-4996-b461-d461906529b6",
   "metadata": {
    "tags": []
   },
   "outputs": [],
   "source": [
    "device = torch.device(\"cuda:0\" if torch.cuda.is_available() else \"cpu\")\n",
    "#print(device)"
   ]
  },
  {
   "cell_type": "code",
   "execution_count": null,
   "id": "38ef821e-c336-403e-a996-809d19367fa6",
   "metadata": {
    "tags": []
   },
   "outputs": [],
   "source": [
    "f0 = 20.0\n",
    "ref_date = datetime(2022, 9, 30)         \n",
    "contract_start = datetime(2022, 10, 1)\n",
    "contract_end = datetime(2022, 10, 31)\n",
    "n_ex_dates = (contract_end - contract_start).days + 1\n",
    "ex_dates = np.array([contract_start + timedelta(days = i) for i in range(n_ex_dates)])"
   ]
  },
  {
   "cell_type": "code",
   "execution_count": null,
   "id": "b7386909-a2b3-4cff-9938-e98c5a2a79ec",
   "metadata": {
    "tags": []
   },
   "outputs": [],
   "source": [
    "dimension = 1\n",
    "alpha = 4.0 * torch.ones(dimension, device = device) # 3.0\n",
    "sigma = 0.7 * torch.ones(dimension, device = device) # 0.25\n",
    "hjm_model = diffusion_model.One_Factor_Hjm_Ln(f0, alpha, sigma, ref_date, ex_dates)\n",
    "\n",
    "#rho = 0.3\n",
    "#corr_mat = rho * torch.ones((dimension, dimension), device = device)\n",
    "#corr_mat = corr_mat.fill_diagonal_(1.0)\n",
    "#hjm_model = Multi_Factor_Hjm_Ln(f0, alpha, sigma, corr_mat, ref_date, ex_dates)"
   ]
  },
  {
   "cell_type": "code",
   "execution_count": null,
   "id": "de0fa0f9-b1ca-4ce5-bc00-e0e113a2287a",
   "metadata": {
    "tags": []
   },
   "outputs": [],
   "source": [
    "Q_min = 20.0\n",
    "Q_max = 25.0\n",
    "q_min = 0.0 * torch.ones(len(ex_dates))\n",
    "q_max = 1.0 * torch.ones(len(ex_dates))\n",
    "grid = volume_grid.Volume_Grid(Q_min, Q_max, q_min, q_max, ex_dates)\n",
    "strike_price = 20.0"
   ]
  },
  {
   "cell_type": "code",
   "execution_count": null,
   "id": "c4d7337f-bc0a-4a68-bad7-f44a17443d29",
   "metadata": {
    "tags": []
   },
   "outputs": [],
   "source": [
    "n_features = dimension + 1 # X + cash flow\n",
    "q = 50 # 20\n",
    "hidden_shared_layers = [q + n_features for i in range(2)]\n",
    "Q_ints, Q_ints_for_training = grid.discretization_cum_vol()"
   ]
  },
  {
   "cell_type": "code",
   "execution_count": null,
   "id": "f9926081-69e2-4013-ad6f-915035f66f1f",
   "metadata": {
    "tags": []
   },
   "outputs": [],
   "source": [
    "norm_Q = grid.Q_max - grid.Q_min\n",
    "batch_size = 2048\n",
    "mtl_nn_model = mtl_network_swing.Build_Mtl_Architecture_For_Swing(n_features, hidden_shared_layers, Q_ints_for_training, grid.Q_min, norm_Q, batch_size, q)"
   ]
  },
  {
   "cell_type": "markdown",
   "id": "8d548831-4a07-4e1e-9725-a386f79a9164",
   "metadata": {},
   "source": [
    "### Strat 1: EMA GradNorm"
   ]
  },
  {
   "cell_type": "code",
   "execution_count": null,
   "id": "5ca5a20e-0d53-4ebd-a624-4aeae4a1271d",
   "metadata": {
    "tags": []
   },
   "outputs": [],
   "source": [
    "optimizer_configs = {'n_iterations' : 200, 'n_batches' : 1, 'batch_size' : batch_size, 'lr_1': 1e-1, 'lr_2' : 1e-2, 'b' : 1.8, 'beta' : 0.7, 'tmp' : 1.0}"
   ]
  },
  {
   "cell_type": "code",
   "execution_count": null,
   "id": "e3797452-e153-43ad-9c92-6331ca553407",
   "metadata": {
    "tags": []
   },
   "outputs": [],
   "source": [
    "my_mtl, loss_1 = mtl_training_swing.mtl_training_1(mtl_nn_model, hjm_model, optimizer_configs, grid, strike_price, Q_ints, \n",
    "                                                   Q_ints_for_training, False)"
   ]
  },
  {
   "cell_type": "code",
   "execution_count": null,
   "id": "320bf0ba-85c3-4a8b-b35c-88c645513235",
   "metadata": {
    "tags": []
   },
   "outputs": [],
   "source": [
    "n_pack, pack_size = 4, 500000\n",
    "    \n",
    "for i in range(1, n_ex_dates):\n",
    "    my_mtl[i].sample_size = pack_size"
   ]
  },
  {
   "cell_type": "code",
   "execution_count": null,
   "id": "da9b5f0c-683b-441e-95ba-959ff86142bc",
   "metadata": {
    "tags": []
   },
   "outputs": [],
   "source": [
    "mtl_training_swing.valuation(my_mtl, hjm_model, grid, strike_price, n_pack, pack_size, Q_ints, Q_ints_for_training)"
   ]
  },
  {
   "cell_type": "markdown",
   "id": "f231abdf-e514-43ed-8528-56b94f82c33e",
   "metadata": {},
   "source": [
    "### Strat 2: basic weights strategy (equal or uniform weights)"
   ]
  },
  {
   "cell_type": "code",
   "execution_count": null,
   "id": "9076cacf-5d36-4998-b15a-baf0edf76c3c",
   "metadata": {
    "tags": []
   },
   "outputs": [],
   "source": [
    "optimizer_configs = {'n_iterations' : 200, 'n_batches' : 1, 'batch_size' : batch_size, 'lr': 1e-1, 'weights_strat' : \"equal\"}"
   ]
  },
  {
   "cell_type": "code",
   "execution_count": null,
   "id": "ac639bdd-79c5-40ae-8179-5ad33a9aa8f7",
   "metadata": {
    "tags": []
   },
   "outputs": [],
   "source": [
    "mtl_nn_model = mtl_network_swing.Build_Mtl_Architecture_For_Swing(n_features, hidden_shared_layers, Q_ints_for_training, grid.Q_min, norm_Q, batch_size, q)"
   ]
  },
  {
   "cell_type": "code",
   "execution_count": null,
   "id": "82539874-f314-452a-bb1c-1ccfb7cb8d61",
   "metadata": {
    "tags": []
   },
   "outputs": [],
   "source": [
    "my_mtl, loss_2 = mtl_training_swing.mtl_training_2(mtl_nn_model, hjm_model, optimizer_configs, grid, strike_price, Q_ints, Q_ints_for_training, False)"
   ]
  },
  {
   "cell_type": "code",
   "execution_count": null,
   "id": "56e410b1-280e-4bbc-9479-0dcc5bf89511",
   "metadata": {
    "tags": []
   },
   "outputs": [],
   "source": [
    "for i in range(1, n_ex_dates):\n",
    "    my_mtl[i].sample_size = pack_size"
   ]
  },
  {
   "cell_type": "code",
   "execution_count": null,
   "id": "975cca78-afe3-41cb-8d62-b04983ad2959",
   "metadata": {
    "tags": []
   },
   "outputs": [],
   "source": [
    "mtl_training_swing.valuation(my_mtl, hjm_model, grid, strike_price, n_pack, pack_size, Q_ints, Q_ints_for_training)"
   ]
  },
  {
   "cell_type": "markdown",
   "id": "af968957-7e64-4b7f-9ffb-a4ad102247da",
   "metadata": {
    "tags": []
   },
   "source": [
    "###"
   ]
  },
  {
   "cell_type": "code",
   "execution_count": null,
   "id": "ad943662-166d-426f-87b4-70312f1bd0f3",
   "metadata": {
    "tags": []
   },
   "outputs": [],
   "source": [
    "optimizer_configs = {'n_iterations' : 200, 'n_batches' : 1, 'batch_size' : batch_size, 'lr': 1e-1, 'weights_strat' : \"uniform\"}"
   ]
  },
  {
   "cell_type": "code",
   "execution_count": null,
   "id": "4bd26e7e-4141-43c2-9347-92afcb283026",
   "metadata": {
    "tags": []
   },
   "outputs": [],
   "source": [
    "mtl_nn_model = Build_Mtl_Architecture_For_Swing(n_features, hidden_shared_layers, Q_ints_for_training, grid.Q_min, norm_Q, batch_size, q)"
   ]
  },
  {
   "cell_type": "code",
   "execution_count": null,
   "id": "80b0279e-8dfa-4ed0-91fb-9d4f718d430d",
   "metadata": {
    "tags": []
   },
   "outputs": [],
   "source": [
    "my_mtl, loss_3 = mtl_training_swing.mtl_training_2(mtl_nn_model, hjm_model, optimizer_configs, grid, strike_price, Q_ints, Q_ints_for_training, False)"
   ]
  },
  {
   "cell_type": "code",
   "execution_count": null,
   "id": "faafa0cd-b4d6-403f-be7f-80d24268f0aa",
   "metadata": {
    "tags": []
   },
   "outputs": [],
   "source": [
    "for i in range(1, n_ex_dates):\n",
    "    my_mtl[i].sample_size = pack_size"
   ]
  },
  {
   "cell_type": "code",
   "execution_count": null,
   "id": "371234c2-945f-4661-bed3-d5d4a9700d32",
   "metadata": {
    "tags": []
   },
   "outputs": [],
   "source": [
    "mtl_training_swing.valuation(my_mtl, hjm_model, grid, strike_price, n_pack, pack_size, Q_ints, Q_ints_for_training)"
   ]
  }
 ],
 "metadata": {
  "kernelspec": {
   "display_name": "Python 3 (ipykernel)",
   "language": "python",
   "name": "python3"
  },
  "language_info": {
   "codemirror_mode": {
    "name": "ipython",
    "version": 3
   },
   "file_extension": ".py",
   "mimetype": "text/x-python",
   "name": "python",
   "nbconvert_exporter": "python",
   "pygments_lexer": "ipython3",
   "version": "3.9.7"
  }
 },
 "nbformat": 4,
 "nbformat_minor": 5
}
